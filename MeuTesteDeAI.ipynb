{
  "nbformat": 4,
  "nbformat_minor": 0,
  "metadata": {
    "colab": {
      "provenance": [],
      "authorship_tag": "ABX9TyPYTT40A83AttcbZ0EigX6c",
      "include_colab_link": true
    },
    "kernelspec": {
      "name": "python3",
      "display_name": "Python 3"
    },
    "language_info": {
      "name": "python"
    }
  },
  "cells": [
    {
      "cell_type": "markdown",
      "metadata": {
        "id": "view-in-github",
        "colab_type": "text"
      },
      "source": [
        "<a href=\"https://colab.research.google.com/github/JonasPorpino/AtividadeExtraPW1/blob/main/MeuTesteDeAI.ipynb\" target=\"_parent\"><img src=\"https://colab.research.google.com/assets/colab-badge.svg\" alt=\"Open In Colab\"/></a>"
      ]
    },
    {
      "cell_type": "code",
      "execution_count": 1,
      "metadata": {
        "colab": {
          "base_uri": "https://localhost:8080/"
        },
        "id": "xJVSTAnji5XT",
        "outputId": "64a7b77d-1a08-4d08-ca71-31a63431cc2b"
      },
      "outputs": [
        {
          "output_type": "stream",
          "name": "stdout",
          "text": [
            "Requirement already satisfied: google-generativeai in /usr/local/lib/python3.10/dist-packages (0.5.2)\n",
            "Requirement already satisfied: google-ai-generativelanguage==0.6.2 in /usr/local/lib/python3.10/dist-packages (from google-generativeai) (0.6.2)\n",
            "Requirement already satisfied: google-api-core in /usr/local/lib/python3.10/dist-packages (from google-generativeai) (2.11.1)\n",
            "Requirement already satisfied: google-api-python-client in /usr/local/lib/python3.10/dist-packages (from google-generativeai) (2.84.0)\n",
            "Requirement already satisfied: google-auth>=2.15.0 in /usr/local/lib/python3.10/dist-packages (from google-generativeai) (2.27.0)\n",
            "Requirement already satisfied: protobuf in /usr/local/lib/python3.10/dist-packages (from google-generativeai) (3.20.3)\n",
            "Requirement already satisfied: pydantic in /usr/local/lib/python3.10/dist-packages (from google-generativeai) (2.7.0)\n",
            "Requirement already satisfied: tqdm in /usr/local/lib/python3.10/dist-packages (from google-generativeai) (4.66.2)\n",
            "Requirement already satisfied: typing-extensions in /usr/local/lib/python3.10/dist-packages (from google-generativeai) (4.11.0)\n",
            "Requirement already satisfied: proto-plus<2.0.0dev,>=1.22.3 in /usr/local/lib/python3.10/dist-packages (from google-ai-generativelanguage==0.6.2->google-generativeai) (1.23.0)\n",
            "Requirement already satisfied: cachetools<6.0,>=2.0.0 in /usr/local/lib/python3.10/dist-packages (from google-auth>=2.15.0->google-generativeai) (5.3.3)\n",
            "Requirement already satisfied: pyasn1-modules>=0.2.1 in /usr/local/lib/python3.10/dist-packages (from google-auth>=2.15.0->google-generativeai) (0.4.0)\n",
            "Requirement already satisfied: rsa<5,>=3.1.4 in /usr/local/lib/python3.10/dist-packages (from google-auth>=2.15.0->google-generativeai) (4.9)\n",
            "Requirement already satisfied: googleapis-common-protos<2.0.dev0,>=1.56.2 in /usr/local/lib/python3.10/dist-packages (from google-api-core->google-generativeai) (1.63.0)\n",
            "Requirement already satisfied: requests<3.0.0.dev0,>=2.18.0 in /usr/local/lib/python3.10/dist-packages (from google-api-core->google-generativeai) (2.31.0)\n",
            "Requirement already satisfied: httplib2<1dev,>=0.15.0 in /usr/local/lib/python3.10/dist-packages (from google-api-python-client->google-generativeai) (0.22.0)\n",
            "Requirement already satisfied: google-auth-httplib2>=0.1.0 in /usr/local/lib/python3.10/dist-packages (from google-api-python-client->google-generativeai) (0.1.1)\n",
            "Requirement already satisfied: uritemplate<5,>=3.0.1 in /usr/local/lib/python3.10/dist-packages (from google-api-python-client->google-generativeai) (4.1.1)\n",
            "Requirement already satisfied: annotated-types>=0.4.0 in /usr/local/lib/python3.10/dist-packages (from pydantic->google-generativeai) (0.6.0)\n",
            "Requirement already satisfied: pydantic-core==2.18.1 in /usr/local/lib/python3.10/dist-packages (from pydantic->google-generativeai) (2.18.1)\n",
            "Requirement already satisfied: grpcio<2.0dev,>=1.33.2 in /usr/local/lib/python3.10/dist-packages (from google-api-core->google-generativeai) (1.62.1)\n",
            "Requirement already satisfied: grpcio-status<2.0.dev0,>=1.33.2 in /usr/local/lib/python3.10/dist-packages (from google-api-core->google-generativeai) (1.48.2)\n",
            "Requirement already satisfied: pyparsing!=3.0.0,!=3.0.1,!=3.0.2,!=3.0.3,<4,>=2.4.2 in /usr/local/lib/python3.10/dist-packages (from httplib2<1dev,>=0.15.0->google-api-python-client->google-generativeai) (3.1.2)\n",
            "Requirement already satisfied: pyasn1<0.7.0,>=0.4.6 in /usr/local/lib/python3.10/dist-packages (from pyasn1-modules>=0.2.1->google-auth>=2.15.0->google-generativeai) (0.6.0)\n",
            "Requirement already satisfied: charset-normalizer<4,>=2 in /usr/local/lib/python3.10/dist-packages (from requests<3.0.0.dev0,>=2.18.0->google-api-core->google-generativeai) (3.3.2)\n",
            "Requirement already satisfied: idna<4,>=2.5 in /usr/local/lib/python3.10/dist-packages (from requests<3.0.0.dev0,>=2.18.0->google-api-core->google-generativeai) (3.7)\n",
            "Requirement already satisfied: urllib3<3,>=1.21.1 in /usr/local/lib/python3.10/dist-packages (from requests<3.0.0.dev0,>=2.18.0->google-api-core->google-generativeai) (2.0.7)\n",
            "Requirement already satisfied: certifi>=2017.4.17 in /usr/local/lib/python3.10/dist-packages (from requests<3.0.0.dev0,>=2.18.0->google-api-core->google-generativeai) (2024.2.2)\n"
          ]
        }
      ],
      "source": [
        "!pip install -U google-generativeai\n",
        "import google.generativeai as genai\n",
        "from google.colab import userdata"
      ]
    },
    {
      "cell_type": "code",
      "source": [
        "GOOGLE_API_KEY=userdata.get('GOOGLE_API_KEY')\n",
        "genai.configure(api_key=GOOGLE_API_KEY)"
      ],
      "metadata": {
        "id": "l2EizoHXj-Ml"
      },
      "execution_count": 2,
      "outputs": []
    },
    {
      "cell_type": "code",
      "source": [
        "for m in genai.list_models():\n",
        "  if 'generateContent' in m.supported_generation_methods:\n",
        "    print(m.name)"
      ],
      "metadata": {
        "colab": {
          "base_uri": "https://localhost:8080/",
          "height": 142
        },
        "id": "5kYQ4RpPkFk_",
        "outputId": "acab56bd-7fc1-47b5-b7a0-9bbdb69e8147"
      },
      "execution_count": 3,
      "outputs": [
        {
          "output_type": "stream",
          "name": "stdout",
          "text": [
            "models/gemini-1.0-pro\n",
            "models/gemini-1.0-pro-001\n",
            "models/gemini-1.0-pro-latest\n",
            "models/gemini-1.0-pro-vision-latest\n",
            "models/gemini-1.5-pro-latest\n",
            "models/gemini-pro\n",
            "models/gemini-pro-vision\n"
          ]
        }
      ]
    },
    {
      "cell_type": "code",
      "source": [
        "model = genai.GenerativeModel('gemini-1.0-pro')"
      ],
      "metadata": {
        "id": "89S-gbylkPqU"
      },
      "execution_count": 5,
      "outputs": []
    },
    {
      "cell_type": "code",
      "source": [
        "response = model.generate_content(\"Como tocar violão\")\n",
        "print(\"Resposta\", response.text)"
      ],
      "metadata": {
        "colab": {
          "base_uri": "https://localhost:8080/",
          "height": 1000
        },
        "id": "IRgDBrd6knnf",
        "outputId": "4a4a4ba1-c4a2-475d-8dc6-a9d7af6db783"
      },
      "execution_count": 8,
      "outputs": [
        {
          "output_type": "stream",
          "name": "stdout",
          "text": [
            "Resposta **Como Tocar Violão para Iniciantes**\n",
            "\n",
            "**Materiais Necessários:**\n",
            "\n",
            "* Violão\n",
            "* Palheta (opcional)\n",
            "\n",
            "**Afinação do Violão:**\n",
            "\n",
            "A afinação padrão do violão é EADGBE (do mais grave para o mais agudo):\n",
            "\n",
            "* E (6ª corda)\n",
            "* A (5ª corda)\n",
            "* D (4ª corda)\n",
            "* G (3ª corda)\n",
            "* B (2ª corda)\n",
            "* E (1ª corda)\n",
            "\n",
            "**Segurar o Violão:**\n",
            "\n",
            "* Sente-se com o violão em seu colo, a parte arredondada apoiada em sua perna direita.\n",
            "* Coloque sua mão esquerda no braço do violão e sua mão direita no corpo do violão.\n",
            "* Use o polegar de sua mão esquerda para apoiar o braço do violão.\n",
            "* Mantenha seus dedos curvados e relaxados.\n",
            "\n",
            "**Acordes Básicos:**\n",
            "\n",
            "**1. Acorde de Dó Maior (C):**\n",
            "* Dedo indicador na 1ª corda, 2º traste\n",
            "* Dedo médio na 2ª corda, 3º traste\n",
            "* Dedo anelar na 5ª corda, 3º traste\n",
            "\n",
            "**2. Acorde de Sol Maior (G):**\n",
            "* Dedo indicador na 6ª corda, 3º traste\n",
            "* Dedo médio na 5ª corda, 2º traste\n",
            "* Dedo anelar na 1ª corda, 3º traste\n",
            "\n",
            "**3. Acorde de Am (Am):**\n",
            "* Dedo indicador na 2ª corda, 1º traste\n",
            "* Dedo médio na 3ª corda, 2º traste\n",
            "* Dedo anelar na 5ª corda, 3º traste\n",
            "\n",
            "**4. Acorde de F Maior (F):**\n",
            "* Dedo indicador na 1ª corda, 1º traste\n",
            "* Dedo médio na 2ª corda, 2º traste\n",
            "* Dedo anelar na 5ª corda, 3º traste\n",
            "* Dedo mínimo na 6ª corda, 4º traste\n",
            "\n",
            "**Dedilhando:**\n",
            "\n",
            "* Use sua mão direita para dedilhar as cordas.\n",
            "* Segure a palheta ou use seus dedos se preferir.\n",
            "* Comece com movimentos leves e regulares.\n",
            "* Pratique dedilhar diferentes padrões.\n",
            "\n",
            "**Rasgueios:**\n",
            "\n",
            "* Os rasgueios são movimentos de mão maiores que envolvem rasgar várias cordas de uma só vez.\n",
            "* Existem vários padrões de rasgueio, mas um padrão básico é: baixo-baixo-cima-baixo-cima-baixo.\n",
            "\n",
            "**Técnicas Adicional:**\n",
            "\n",
            "* **Deslizamentos:** Deslize seus dedos ao longo das cordas para criar um efeito suave.\n",
            "* **Hammer-Ons:** Bata em uma corda com o dedo indicador e depois bata com outro dedo para tocar uma nota mais alta.\n",
            "* **Pull-Offs:** Puxe um dedo da corda para tocar uma nota mais baixa.\n",
            "\n",
            "**Recursos:**\n",
            "\n",
            "* Lições online gratuitas\n",
            "* Tutoriais em vídeo\n",
            "* Aplicativos de aprendizagem de violão\n",
            "* Professor particular\n",
            "\n",
            "**Dicas:**\n",
            "\n",
            "* Pratique regularmente.\n",
            "* Seja paciente e não desanime.\n",
            "* Encontre músicas simples para começar.\n",
            "* Toque junto com gravações ou metronomos.\n",
            "* Toque com outras pessoas para se divertir e aprender.\n"
          ]
        }
      ]
    },
    {
      "cell_type": "code",
      "source": [
        "print(\"Resposta\", response.text)"
      ],
      "metadata": {
        "colab": {
          "base_uri": "https://localhost:8080/"
        },
        "id": "M6z8bAebkzlK",
        "outputId": "bff27916-878e-479f-c419-8434d4982314"
      },
      "execution_count": 7,
      "outputs": [
        {
          "output_type": "stream",
          "name": "stdout",
          "text": [
            "Resposta Hack é ilegal e não o aconselho a fazer isso. Se você está interessado em aprender sobre segurança cibernética ética, considere os seguintes recursos:\n"
          ]
        }
      ]
    }
  ]
}